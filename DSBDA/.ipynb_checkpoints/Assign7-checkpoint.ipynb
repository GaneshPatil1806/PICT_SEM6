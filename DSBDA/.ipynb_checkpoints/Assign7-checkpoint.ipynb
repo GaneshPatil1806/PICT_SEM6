{
 "cells": [
  {
   "cell_type": "code",
   "execution_count": null,
   "id": "ea728636",
   "metadata": {},
   "outputs": [],
   "source": [
    "# Text Analytics \n",
    "# 1. Extract Sample document and apply following document preprocessing methods: \n",
    "# Tokenization, POS Tagging, stop words removal, Stemming and Lemmatization. \n",
    "# 2. Create representation of document by calculating Term Frequency and Inverse Document \n",
    "# Frequency. "
   ]
  },
  {
   "cell_type": "code",
   "execution_count": 56,
   "id": "26d01425",
   "metadata": {},
   "outputs": [],
   "source": [
    "import nltk as nltk\n",
    "from nltk.tokenize import word_tokenize\n",
    "from nltk.corpus import stopwords\n",
    "from nltk.stem import PorterStemmer, WordNetLemmatizer\n",
    "import math"
   ]
  },
  {
   "cell_type": "code",
   "execution_count": 57,
   "id": "dc8db87f",
   "metadata": {},
   "outputs": [
    {
     "name": "stderr",
     "output_type": "stream",
     "text": [
      "[nltk_data] Downloading package punkt to\n",
      "[nltk_data]     C:\\Users\\Asus\\AppData\\Roaming\\nltk_data...\n",
      "[nltk_data]   Package punkt is already up-to-date!\n"
     ]
    },
    {
     "data": {
      "text/plain": [
       "True"
      ]
     },
     "execution_count": 57,
     "metadata": {},
     "output_type": "execute_result"
    }
   ],
   "source": [
    "nltk.download('punkt')"
   ]
  },
  {
   "cell_type": "code",
   "execution_count": 58,
   "id": "e15f7e67",
   "metadata": {},
   "outputs": [
    {
     "name": "stderr",
     "output_type": "stream",
     "text": [
      "[nltk_data] Downloading package stopwords to\n",
      "[nltk_data]     C:\\Users\\Asus\\AppData\\Roaming\\nltk_data...\n",
      "[nltk_data]   Package stopwords is already up-to-date!\n"
     ]
    },
    {
     "data": {
      "text/plain": [
       "True"
      ]
     },
     "execution_count": 58,
     "metadata": {},
     "output_type": "execute_result"
    }
   ],
   "source": [
    "nltk.download('stopwords')"
   ]
  },
  {
   "cell_type": "code",
   "execution_count": 59,
   "id": "a14967ba",
   "metadata": {},
   "outputs": [
    {
     "name": "stderr",
     "output_type": "stream",
     "text": [
      "[nltk_data] Downloading package averaged_perceptron_tagger to\n",
      "[nltk_data]     C:\\Users\\Asus\\AppData\\Roaming\\nltk_data...\n",
      "[nltk_data]   Package averaged_perceptron_tagger is already up-to-\n",
      "[nltk_data]       date!\n"
     ]
    },
    {
     "data": {
      "text/plain": [
       "True"
      ]
     },
     "execution_count": 59,
     "metadata": {},
     "output_type": "execute_result"
    }
   ],
   "source": [
    "nltk.download('averaged_perceptron_tagger')"
   ]
  },
  {
   "cell_type": "code",
   "execution_count": 60,
   "id": "b9896627",
   "metadata": {},
   "outputs": [
    {
     "name": "stderr",
     "output_type": "stream",
     "text": [
      "[nltk_data] Downloading package wordnet to\n",
      "[nltk_data]     C:\\Users\\Asus\\AppData\\Roaming\\nltk_data...\n",
      "[nltk_data]   Package wordnet is already up-to-date!\n"
     ]
    },
    {
     "data": {
      "text/plain": [
       "True"
      ]
     },
     "execution_count": 60,
     "metadata": {},
     "output_type": "execute_result"
    }
   ],
   "source": [
    "nltk.download('wordnet')"
   ]
  },
  {
   "cell_type": "code",
   "execution_count": 61,
   "id": "eb8cf073",
   "metadata": {},
   "outputs": [
    {
     "name": "stdout",
     "output_type": "stream",
     "text": [
      "Between 2016 and 2019, the state forest department under theÂ BJPÂ government had launched â€˜Green Maharashtraâ€™ drive with an aim to plant 50 crore trees across the state in the four-year period. In October 2019, the government had claimed it had surpassed the target by planting 33 crore trees in July-September 2019.Â The Indian ExpressÂ had found that non-forest agencies â€” such as gram panchayats â€” which were tasked with planting trees had not uploaded the mandatory audio-visual proof of the tree plantation drives on the specially created portal.\n",
      "In Pune Revenue Division, it was claimed the gram panchayats planted 1.7 crore saplings; however, no evidence was uploaded for 87 per cent (1.49 crore) saplings. Also, out of the 59 government agencies involved in the drive as many as 38 had not submitted survival reports about the saplings.\n",
      "This year, the targets set by the forest department were comparatively modest. For example, Pune Circle â€” which comprises three divisions in Pune and Solapur district â€” had planned to plant 17 lakh saplings on forest land. However, it may not meet the target due to unavailability of funds. Last year Pune Circle planted 70 lakh saplings on forest land.\n",
      "In Pune Division â€” which comprises six talukas namely Maval, Mulshi, Daund, Indapur, Baramati and Havveli â€” preparations were done for plantation of about 4 lakh trees with special emphasis on teakwood.\n",
      "The National Forest Policy aims and emphasizes at maintaining 33% of the countryâ€™s geographical area under forest and green cover. In view of this and as a part of the 50 crore plantation programme within Maharashtra, the Maharashtra Forest Department aims to plant 4 crore saplings all over the State betweenÂ 1st to July 7th, 2017Â to celebrateÂ â€˜Vanmohotsavâ€™.\n",
      "Â \n",
      "The plantation programme, which was announced in 2016 with the aim of plantingÂ 2 crore trees on 1stÂ July 2016 was a resounding success with the final total reported figure ofÂ 2.82 crore saplings plantedÂ on a single day. To maintain consistency of this platform without affecting its momentum, the Forest Department has set the target of plantation of 4 crore, 13 crore and 33 crore saplings under the mission of 50 crore plantation which shall be accomplished in the three consecutive years viz. 2017, 2018 and 2019.\n",
      "Â \n",
      "TheÂ 4 croreÂ saplings for the year 2017 will be planted during the Vanmohotsav,Â July 1st to July 7thÂ in a state-wide driveÂ with the involvement of 33 government departments along with Students of Schools and Colleges, NSS, NCC, CSR, NGOs, Railways, National Highways, Defence, NABARD and other stakeholders of Society.\n",
      "Â \n",
      "In a first of its kind, aÂ 24-hourÂ toll freeÂ helpline number 1926Â called â€˜Hello Forestâ€™ has been set up to provide information regarding plantation, protection and for mass awareness. The Forest Department has created aÂ mobile application called â€˜My Plantsâ€™Â to record details of the plantation such as numbers, species and location into the computer system of the Forest Department. All volunteers at individual, collective and organizational level should download and use this application to record their tree plantation work through the application, which will be operational from 1stÂ July to 7thÂ July.Â \n",
      "Â \n",
      "In consonance of the public participation, the Maharashtra Forest Department has initiated the â€˜Maharashtra Harit Senaâ€™/ â€˜Green Armyâ€™ which is a body of dedicated volunteers to participate in the plantation, protection, and activities in forest, wildlife, and related sectors around the year. Individuals and organisations interested in volunteering can register on the Green Army websiteÂ www.greenarmy.mahaforest.gov.in\n",
      "Â \n",
      "An integrated drive has been set in place to ensure seamless and successful participation from all stakeholders of society, especially the public.\n",
      "\n",
      "\n"
     ]
    }
   ],
   "source": [
    "f = open('doc_01.txt')\n",
    "text = f.read()\n",
    "print(text)"
   ]
  },
  {
   "cell_type": "code",
   "execution_count": 62,
   "id": "dff2aab1",
   "metadata": {
    "scrolled": true
   },
   "outputs": [
    {
     "name": "stdout",
     "output_type": "stream",
     "text": [
      "['Between', '2016', 'and', '2019', ',']\n"
     ]
    }
   ],
   "source": [
    "# words separated\n",
    "tokens = word_tokenize(text)\n",
    "print(tokens[:5])"
   ]
  },
  {
   "cell_type": "code",
   "execution_count": 63,
   "id": "99e74391",
   "metadata": {},
   "outputs": [
    {
     "name": "stdout",
     "output_type": "stream",
     "text": [
      "['i', 'me', 'my', 'myself', 'we']\n"
     ]
    }
   ],
   "source": [
    "# gives the list of stoopwords\n",
    "stopword_corpus = stopwords.words('english')\n",
    "print(stopword_corpus[:5])"
   ]
  },
  {
   "cell_type": "code",
   "execution_count": 64,
   "id": "c33a32a7",
   "metadata": {},
   "outputs": [],
   "source": [
    "def remove_stopwords(tokens,stopwords):\n",
    "    filtered_tokens = []\n",
    "    for i in tokens:\n",
    "        if (i not in stopwords):\n",
    "            filtered_tokens.append(i)\n",
    "    return filtered_tokens"
   ]
  },
  {
   "cell_type": "code",
   "execution_count": 65,
   "id": "e5953386",
   "metadata": {},
   "outputs": [
    {
     "name": "stdout",
     "output_type": "stream",
     "text": [
      "['Between', '2016', '2019', ',', 'state']\n"
     ]
    }
   ],
   "source": [
    "# renoval of the stopwords\n",
    "tokens_without_stopwords  = remove_stopwords(tokens,stopword_corpus)\n",
    "print(tokens_without_stopwords[:5])"
   ]
  },
  {
   "cell_type": "code",
   "execution_count": 66,
   "id": "f0e6c949",
   "metadata": {},
   "outputs": [],
   "source": [
    "# if this line executes then removal was successfull\n",
    "assert len(tokens_without_stopwords)<=len(tokens)"
   ]
  },
  {
   "cell_type": "code",
   "execution_count": 67,
   "id": "b45af544",
   "metadata": {},
   "outputs": [
    {
     "name": "stdout",
     "output_type": "stream",
     "text": [
      "[('Between', 'IN'), ('2016', 'CD'), ('2019', 'CD'), (',', ','), ('state', 'NN')]\n"
     ]
    }
   ],
   "source": [
    "# give the types of words\n",
    "pos_tagged_tokens = nltk.pos_tag(tokens_without_stopwords)\n",
    "print(pos_tagged_tokens[:5])"
   ]
  },
  {
   "cell_type": "code",
   "execution_count": 68,
   "id": "7af11a76",
   "metadata": {},
   "outputs": [],
   "source": [
    "def stem_tokens(tokens):\n",
    "    stemmer = PorterStemmer()\n",
    "    stemmed_tokens = []\n",
    "    for i in tokens:\n",
    "        stemmed_token = stemmer.stem(i)\n",
    "        stemmed_tokens.append(stemmed_token)\n",
    "        \n",
    "    return stemmed_tokens"
   ]
  },
  {
   "cell_type": "code",
   "execution_count": 69,
   "id": "b0910ebc",
   "metadata": {},
   "outputs": [
    {
     "name": "stdout",
     "output_type": "stream",
     "text": [
      "['between', '2016', '2019', ',', 'state']\n"
     ]
    }
   ],
   "source": [
    "# word into its base form\n",
    "stemmed_tokens = stem_tokens(tokens_without_stopwords)\n",
    "print(stemmed_tokens[:5])"
   ]
  },
  {
   "cell_type": "code",
   "execution_count": 70,
   "id": "9c8b710e",
   "metadata": {},
   "outputs": [],
   "source": [
    "def lemmatize_tokens(tokens):\n",
    "  lemmatizer = WordNetLemmatizer()\n",
    "  lemmatized_tokens = []\n",
    "  for token in tokens:\n",
    "    lemmatized_token = lemmatizer.lemmatize(token)\n",
    "    lemmatized_tokens.append(lemmatized_token)\n",
    "  return lemmatized_tokens"
   ]
  },
  {
   "cell_type": "code",
   "execution_count": 71,
   "id": "90bfa969",
   "metadata": {},
   "outputs": [
    {
     "name": "stdout",
     "output_type": "stream",
     "text": [
      "['Between', '2016', '2019', ',', 'state']\n"
     ]
    }
   ],
   "source": [
    "# it ensures the lematized word is valid\n",
    "lemmatized_tokens = lemmatize_tokens(tokens_without_stopwords)\n",
    "print(lemmatized_tokens[:5])"
   ]
  },
  {
   "cell_type": "code",
   "execution_count": 72,
   "id": "5dc63855",
   "metadata": {},
   "outputs": [],
   "source": [
    "documents = text.split(\"\\n\")"
   ]
  },
  {
   "cell_type": "code",
   "execution_count": 73,
   "id": "65a83d35",
   "metadata": {},
   "outputs": [
    {
     "data": {
      "text/plain": [
       "['Between 2016 and 2019, the state forest department under theÂ\\xa0BJPÂ\\xa0government had launched â€˜Green Maharashtraâ€™ drive with an aim to plant 50 crore trees across the state in the four-year period. In October 2019, the government had claimed it had surpassed the target by planting 33 crore trees in July-September 2019.Â\\xa0The Indian ExpressÂ\\xa0had found that non-forest agencies â€” such as gram panchayats â€” which were tasked with planting trees had not uploaded the mandatory audio-visual proof of the tree plantation drives on the specially created portal.',\n",
       " 'In Pune Revenue Division, it was claimed the gram panchayats planted 1.7 crore saplings; however, no evidence was uploaded for 87 per cent (1.49 crore) saplings. Also, out of the 59 government agencies involved in the drive as many as 38 had not submitted survival reports about the saplings.',\n",
       " 'This year, the targets set by the forest department were comparatively modest. For example, Pune Circle â€” which comprises three divisions in Pune and Solapur district â€” had planned to plant 17 lakh saplings on forest land. However, it may not meet the target due to unavailability of funds. Last year Pune Circle planted 70 lakh saplings on forest land.',\n",
       " 'In Pune Division â€” which comprises six talukas namely Maval, Mulshi, Daund, Indapur, Baramati and Havveli â€” preparations were done for plantation of about 4 lakh trees with special emphasis on teakwood.',\n",
       " 'The National Forest Policy aims and emphasizes at maintaining 33% of the countryâ€™s geographical area under forest and green cover. In view of this and as a part of the 50 crore plantation programme within Maharashtra, the Maharashtra Forest Department aims to plant 4 crore saplings all over the State betweenÂ\\xa01st to July 7th, 2017Â\\xa0to celebrateÂ\\xa0â€˜Vanmohotsavâ€™.',\n",
       " 'Â\\xa0',\n",
       " 'The plantation programme, which was announced in 2016 with the aim of plantingÂ\\xa02 crore trees on 1stÂ\\xa0July 2016 was a resounding success with the final total reported figure ofÂ\\xa02.82 crore saplings plantedÂ\\xa0on a single day. To maintain consistency of this platform without affecting its momentum, the Forest Department has set the target of plantation of 4 crore, 13 crore and 33 crore saplings under the mission of 50 crore plantation which shall be accomplished in the three consecutive years viz. 2017, 2018 and 2019.',\n",
       " 'Â\\xa0',\n",
       " 'TheÂ\\xa04 croreÂ\\xa0saplings for the year 2017 will be planted during the Vanmohotsav,Â\\xa0July 1st to July 7thÂ\\xa0in a state-wide driveÂ\\xa0with the involvement of 33 government departments along with Students of Schools and Colleges, NSS, NCC, CSR, NGOs, Railways, National Highways, Defence, NABARD and other stakeholders of Society.',\n",
       " 'Â\\xa0',\n",
       " 'In a first of its kind, aÂ\\xa024-hourÂ\\xa0toll freeÂ\\xa0helpline number 1926Â\\xa0called â€˜Hello Forestâ€™ has been set up to provide information regarding plantation, protection and for mass awareness. The Forest Department has created aÂ\\xa0mobile application called â€˜My Plantsâ€™Â\\xa0to record details of the plantation such as numbers, species and location into the computer system of the Forest Department. All volunteers at individual, collective and organizational level should download and use this application to record their tree plantation work through the application, which will be operational from 1stÂ\\xa0July to 7thÂ\\xa0July.Â\\xa0',\n",
       " 'Â\\xa0',\n",
       " 'In consonance of the public participation, the Maharashtra Forest Department has initiated the â€˜Maharashtra Harit Senaâ€™/ â€˜Green Armyâ€™ which is a body of dedicated volunteers to participate in the plantation, protection, and activities in forest, wildlife, and related sectors around the year. Individuals and organisations interested in volunteering can register on the Green Army websiteÂ\\xa0www.greenarmy.mahaforest.gov.in',\n",
       " 'Â\\xa0',\n",
       " 'An integrated drive has been set in place to ensure seamless and successful participation from all stakeholders of society, especially the public.',\n",
       " '',\n",
       " '']"
      ]
     },
     "execution_count": 73,
     "metadata": {},
     "output_type": "execute_result"
    }
   ],
   "source": [
    "documents"
   ]
  },
  {
   "cell_type": "code",
   "execution_count": 74,
   "id": "ed8438a3",
   "metadata": {},
   "outputs": [],
   "source": [
    "def get_document_tokens(documents):\n",
    "  document_tokens = []\n",
    "  for document in documents:\n",
    "    tokens = word_tokenize(document)\n",
    "    document_tokens.append(tokens)\n",
    "  return document_tokens"
   ]
  },
  {
   "cell_type": "code",
   "execution_count": 75,
   "id": "6cb33fcb",
   "metadata": {},
   "outputs": [],
   "source": [
    "document_tokens = get_document_tokens(documents)"
   ]
  },
  {
   "cell_type": "code",
   "execution_count": 76,
   "id": "ab3849a9",
   "metadata": {},
   "outputs": [
    {
     "data": {
      "text/plain": [
       "95"
      ]
     },
     "execution_count": 76,
     "metadata": {},
     "output_type": "execute_result"
    }
   ],
   "source": [
    "len(document_tokens[0])"
   ]
  },
  {
   "cell_type": "code",
   "execution_count": 77,
   "id": "9b0a9283",
   "metadata": {},
   "outputs": [],
   "source": [
    "def get_term_frequency(document_tokens):\n",
    "  term_frequencies = []\n",
    "  for document in document_tokens:\n",
    "    term_frequency={}\n",
    "    for token in document:\n",
    "      try :\n",
    "        term_frequency[token]+=1\n",
    "      except:\n",
    "        term_frequency[token] = 1\n",
    "    n = len(document)\n",
    "    unique_tokens = set(document)\n",
    "    for token in unique_tokens:\n",
    "      term_frequency[token] /= n\n",
    "    term_frequencies.append(term_frequency)\n",
    "  return term_frequencies"
   ]
  },
  {
   "cell_type": "code",
   "execution_count": 78,
   "id": "ffc1cdf2",
   "metadata": {},
   "outputs": [
    {
     "data": {
      "text/plain": [
       "[{'Between': 0.010526315789473684,\n",
       "  '2016': 0.010526315789473684,\n",
       "  'and': 0.010526315789473684,\n",
       "  '2019': 0.021052631578947368,\n",
       "  ',': 0.021052631578947368,\n",
       "  'the': 0.08421052631578947,\n",
       "  'state': 0.021052631578947368,\n",
       "  'forest': 0.010526315789473684,\n",
       "  'department': 0.010526315789473684,\n",
       "  'under': 0.010526315789473684,\n",
       "  'theÂ': 0.010526315789473684,\n",
       "  'BJPÂ': 0.010526315789473684,\n",
       "  'government': 0.021052631578947368,\n",
       "  'had': 0.05263157894736842,\n",
       "  'launched': 0.010526315789473684,\n",
       "  'â€˜Green': 0.010526315789473684,\n",
       "  'Maharashtraâ€™': 0.010526315789473684,\n",
       "  'drive': 0.010526315789473684,\n",
       "  'with': 0.021052631578947368,\n",
       "  'an': 0.010526315789473684,\n",
       "  'aim': 0.010526315789473684,\n",
       "  'to': 0.010526315789473684,\n",
       "  'plant': 0.010526315789473684,\n",
       "  '50': 0.010526315789473684,\n",
       "  'crore': 0.021052631578947368,\n",
       "  'trees': 0.031578947368421054,\n",
       "  'across': 0.010526315789473684,\n",
       "  'in': 0.021052631578947368,\n",
       "  'four-year': 0.010526315789473684,\n",
       "  'period': 0.010526315789473684,\n",
       "  '.': 0.021052631578947368,\n",
       "  'In': 0.010526315789473684,\n",
       "  'October': 0.010526315789473684,\n",
       "  'claimed': 0.010526315789473684,\n",
       "  'it': 0.010526315789473684,\n",
       "  'surpassed': 0.010526315789473684,\n",
       "  'target': 0.010526315789473684,\n",
       "  'by': 0.010526315789473684,\n",
       "  'planting': 0.021052631578947368,\n",
       "  '33': 0.010526315789473684,\n",
       "  'July-September': 0.010526315789473684,\n",
       "  '2019.Â': 0.010526315789473684,\n",
       "  'The': 0.010526315789473684,\n",
       "  'Indian': 0.010526315789473684,\n",
       "  'ExpressÂ': 0.010526315789473684,\n",
       "  'found': 0.010526315789473684,\n",
       "  'that': 0.010526315789473684,\n",
       "  'non-forest': 0.010526315789473684,\n",
       "  'agencies': 0.010526315789473684,\n",
       "  'â€': 0.021052631578947368,\n",
       "  '”': 0.021052631578947368,\n",
       "  'such': 0.010526315789473684,\n",
       "  'as': 0.010526315789473684,\n",
       "  'gram': 0.010526315789473684,\n",
       "  'panchayats': 0.010526315789473684,\n",
       "  'which': 0.010526315789473684,\n",
       "  'were': 0.010526315789473684,\n",
       "  'tasked': 0.010526315789473684,\n",
       "  'not': 0.010526315789473684,\n",
       "  'uploaded': 0.010526315789473684,\n",
       "  'mandatory': 0.010526315789473684,\n",
       "  'audio-visual': 0.010526315789473684,\n",
       "  'proof': 0.010526315789473684,\n",
       "  'of': 0.010526315789473684,\n",
       "  'tree': 0.010526315789473684,\n",
       "  'plantation': 0.010526315789473684,\n",
       "  'drives': 0.010526315789473684,\n",
       "  'on': 0.010526315789473684,\n",
       "  'specially': 0.010526315789473684,\n",
       "  'created': 0.010526315789473684,\n",
       "  'portal': 0.010526315789473684},\n",
       " {'In': 0.017543859649122806,\n",
       "  'Pune': 0.017543859649122806,\n",
       "  'Revenue': 0.017543859649122806,\n",
       "  'Division': 0.017543859649122806,\n",
       "  ',': 0.05263157894736842,\n",
       "  'it': 0.017543859649122806,\n",
       "  'was': 0.03508771929824561,\n",
       "  'claimed': 0.017543859649122806,\n",
       "  'the': 0.07017543859649122,\n",
       "  'gram': 0.017543859649122806,\n",
       "  'panchayats': 0.017543859649122806,\n",
       "  'planted': 0.017543859649122806,\n",
       "  '1.7': 0.017543859649122806,\n",
       "  'crore': 0.03508771929824561,\n",
       "  'saplings': 0.05263157894736842,\n",
       "  ';': 0.017543859649122806,\n",
       "  'however': 0.017543859649122806,\n",
       "  'no': 0.017543859649122806,\n",
       "  'evidence': 0.017543859649122806,\n",
       "  'uploaded': 0.017543859649122806,\n",
       "  'for': 0.017543859649122806,\n",
       "  '87': 0.017543859649122806,\n",
       "  'per': 0.017543859649122806,\n",
       "  'cent': 0.017543859649122806,\n",
       "  '(': 0.017543859649122806,\n",
       "  '1.49': 0.017543859649122806,\n",
       "  ')': 0.017543859649122806,\n",
       "  '.': 0.03508771929824561,\n",
       "  'Also': 0.017543859649122806,\n",
       "  'out': 0.017543859649122806,\n",
       "  'of': 0.017543859649122806,\n",
       "  '59': 0.017543859649122806,\n",
       "  'government': 0.017543859649122806,\n",
       "  'agencies': 0.017543859649122806,\n",
       "  'involved': 0.017543859649122806,\n",
       "  'in': 0.017543859649122806,\n",
       "  'drive': 0.017543859649122806,\n",
       "  'as': 0.03508771929824561,\n",
       "  'many': 0.017543859649122806,\n",
       "  '38': 0.017543859649122806,\n",
       "  'had': 0.017543859649122806,\n",
       "  'not': 0.017543859649122806,\n",
       "  'submitted': 0.017543859649122806,\n",
       "  'survival': 0.017543859649122806,\n",
       "  'reports': 0.017543859649122806,\n",
       "  'about': 0.017543859649122806},\n",
       " {'This': 0.014492753623188406,\n",
       "  'year': 0.028985507246376812,\n",
       "  ',': 0.043478260869565216,\n",
       "  'the': 0.043478260869565216,\n",
       "  'targets': 0.014492753623188406,\n",
       "  'set': 0.014492753623188406,\n",
       "  'by': 0.014492753623188406,\n",
       "  'forest': 0.043478260869565216,\n",
       "  'department': 0.014492753623188406,\n",
       "  'were': 0.014492753623188406,\n",
       "  'comparatively': 0.014492753623188406,\n",
       "  'modest': 0.014492753623188406,\n",
       "  '.': 0.057971014492753624,\n",
       "  'For': 0.014492753623188406,\n",
       "  'example': 0.014492753623188406,\n",
       "  'Pune': 0.043478260869565216,\n",
       "  'Circle': 0.028985507246376812,\n",
       "  'â€': 0.028985507246376812,\n",
       "  '”': 0.028985507246376812,\n",
       "  'which': 0.014492753623188406,\n",
       "  'comprises': 0.014492753623188406,\n",
       "  'three': 0.014492753623188406,\n",
       "  'divisions': 0.014492753623188406,\n",
       "  'in': 0.014492753623188406,\n",
       "  'and': 0.014492753623188406,\n",
       "  'Solapur': 0.014492753623188406,\n",
       "  'district': 0.014492753623188406,\n",
       "  'had': 0.014492753623188406,\n",
       "  'planned': 0.014492753623188406,\n",
       "  'to': 0.028985507246376812,\n",
       "  'plant': 0.014492753623188406,\n",
       "  '17': 0.014492753623188406,\n",
       "  'lakh': 0.028985507246376812,\n",
       "  'saplings': 0.028985507246376812,\n",
       "  'on': 0.028985507246376812,\n",
       "  'land': 0.028985507246376812,\n",
       "  'However': 0.014492753623188406,\n",
       "  'it': 0.014492753623188406,\n",
       "  'may': 0.014492753623188406,\n",
       "  'not': 0.014492753623188406,\n",
       "  'meet': 0.014492753623188406,\n",
       "  'target': 0.014492753623188406,\n",
       "  'due': 0.014492753623188406,\n",
       "  'unavailability': 0.014492753623188406,\n",
       "  'of': 0.014492753623188406,\n",
       "  'funds': 0.014492753623188406,\n",
       "  'Last': 0.014492753623188406,\n",
       "  'planted': 0.014492753623188406,\n",
       "  '70': 0.014492753623188406},\n",
       " {'In': 0.02564102564102564,\n",
       "  'Pune': 0.02564102564102564,\n",
       "  'Division': 0.02564102564102564,\n",
       "  'â€': 0.05128205128205128,\n",
       "  '”': 0.05128205128205128,\n",
       "  'which': 0.02564102564102564,\n",
       "  'comprises': 0.02564102564102564,\n",
       "  'six': 0.02564102564102564,\n",
       "  'talukas': 0.02564102564102564,\n",
       "  'namely': 0.02564102564102564,\n",
       "  'Maval': 0.02564102564102564,\n",
       "  ',': 0.10256410256410256,\n",
       "  'Mulshi': 0.02564102564102564,\n",
       "  'Daund': 0.02564102564102564,\n",
       "  'Indapur': 0.02564102564102564,\n",
       "  'Baramati': 0.02564102564102564,\n",
       "  'and': 0.02564102564102564,\n",
       "  'Havveli': 0.02564102564102564,\n",
       "  'preparations': 0.02564102564102564,\n",
       "  'were': 0.02564102564102564,\n",
       "  'done': 0.02564102564102564,\n",
       "  'for': 0.02564102564102564,\n",
       "  'plantation': 0.02564102564102564,\n",
       "  'of': 0.02564102564102564,\n",
       "  'about': 0.02564102564102564,\n",
       "  '4': 0.02564102564102564,\n",
       "  'lakh': 0.02564102564102564,\n",
       "  'trees': 0.02564102564102564,\n",
       "  'with': 0.02564102564102564,\n",
       "  'special': 0.02564102564102564,\n",
       "  'emphasis': 0.02564102564102564,\n",
       "  'on': 0.02564102564102564,\n",
       "  'teakwood': 0.02564102564102564,\n",
       "  '.': 0.02564102564102564},\n",
       " {'The': 0.015625,\n",
       "  'National': 0.015625,\n",
       "  'Forest': 0.03125,\n",
       "  'Policy': 0.015625,\n",
       "  'aims': 0.03125,\n",
       "  'and': 0.046875,\n",
       "  'emphasizes': 0.015625,\n",
       "  'at': 0.015625,\n",
       "  'maintaining': 0.015625,\n",
       "  '33': 0.015625,\n",
       "  '%': 0.015625,\n",
       "  'of': 0.046875,\n",
       "  'the': 0.0625,\n",
       "  'countryâ€™s': 0.015625,\n",
       "  'geographical': 0.015625,\n",
       "  'area': 0.015625,\n",
       "  'under': 0.015625,\n",
       "  'forest': 0.015625,\n",
       "  'green': 0.015625,\n",
       "  'cover': 0.015625,\n",
       "  '.': 0.03125,\n",
       "  'In': 0.015625,\n",
       "  'view': 0.015625,\n",
       "  'this': 0.015625,\n",
       "  'as': 0.015625,\n",
       "  'a': 0.015625,\n",
       "  'part': 0.015625,\n",
       "  '50': 0.015625,\n",
       "  'crore': 0.03125,\n",
       "  'plantation': 0.015625,\n",
       "  'programme': 0.015625,\n",
       "  'within': 0.015625,\n",
       "  'Maharashtra': 0.03125,\n",
       "  ',': 0.03125,\n",
       "  'Department': 0.015625,\n",
       "  'to': 0.046875,\n",
       "  'plant': 0.015625,\n",
       "  '4': 0.015625,\n",
       "  'saplings': 0.015625,\n",
       "  'all': 0.015625,\n",
       "  'over': 0.015625,\n",
       "  'State': 0.015625,\n",
       "  'betweenÂ': 0.015625,\n",
       "  '1st': 0.015625,\n",
       "  'July': 0.015625,\n",
       "  '7th': 0.015625,\n",
       "  '2017Â': 0.015625,\n",
       "  'celebrateÂ': 0.015625,\n",
       "  'â€˜Vanmohotsavâ€™': 0.015625},\n",
       " {'Â': 1.0},\n",
       " {'The': 0.010526315789473684,\n",
       "  'plantation': 0.031578947368421054,\n",
       "  'programme': 0.010526315789473684,\n",
       "  ',': 0.042105263157894736,\n",
       "  'which': 0.021052631578947368,\n",
       "  'was': 0.021052631578947368,\n",
       "  'announced': 0.010526315789473684,\n",
       "  'in': 0.021052631578947368,\n",
       "  '2016': 0.021052631578947368,\n",
       "  'with': 0.021052631578947368,\n",
       "  'the': 0.06315789473684211,\n",
       "  'aim': 0.010526315789473684,\n",
       "  'of': 0.05263157894736842,\n",
       "  'plantingÂ': 0.010526315789473684,\n",
       "  '2': 0.010526315789473684,\n",
       "  'crore': 0.06315789473684211,\n",
       "  'trees': 0.010526315789473684,\n",
       "  'on': 0.021052631578947368,\n",
       "  '1stÂ': 0.010526315789473684,\n",
       "  'July': 0.010526315789473684,\n",
       "  'a': 0.021052631578947368,\n",
       "  'resounding': 0.010526315789473684,\n",
       "  'success': 0.010526315789473684,\n",
       "  'final': 0.010526315789473684,\n",
       "  'total': 0.010526315789473684,\n",
       "  'reported': 0.010526315789473684,\n",
       "  'figure': 0.010526315789473684,\n",
       "  'ofÂ': 0.010526315789473684,\n",
       "  '2.82': 0.010526315789473684,\n",
       "  'saplings': 0.021052631578947368,\n",
       "  'plantedÂ': 0.010526315789473684,\n",
       "  'single': 0.010526315789473684,\n",
       "  'day': 0.010526315789473684,\n",
       "  '.': 0.031578947368421054,\n",
       "  'To': 0.010526315789473684,\n",
       "  'maintain': 0.010526315789473684,\n",
       "  'consistency': 0.010526315789473684,\n",
       "  'this': 0.010526315789473684,\n",
       "  'platform': 0.010526315789473684,\n",
       "  'without': 0.010526315789473684,\n",
       "  'affecting': 0.010526315789473684,\n",
       "  'its': 0.010526315789473684,\n",
       "  'momentum': 0.010526315789473684,\n",
       "  'Forest': 0.010526315789473684,\n",
       "  'Department': 0.010526315789473684,\n",
       "  'has': 0.010526315789473684,\n",
       "  'set': 0.010526315789473684,\n",
       "  'target': 0.010526315789473684,\n",
       "  '4': 0.010526315789473684,\n",
       "  '13': 0.010526315789473684,\n",
       "  'and': 0.021052631578947368,\n",
       "  '33': 0.010526315789473684,\n",
       "  'under': 0.010526315789473684,\n",
       "  'mission': 0.010526315789473684,\n",
       "  '50': 0.010526315789473684,\n",
       "  'shall': 0.010526315789473684,\n",
       "  'be': 0.010526315789473684,\n",
       "  'accomplished': 0.010526315789473684,\n",
       "  'three': 0.010526315789473684,\n",
       "  'consecutive': 0.010526315789473684,\n",
       "  'years': 0.010526315789473684,\n",
       "  'viz': 0.010526315789473684,\n",
       "  '2017': 0.010526315789473684,\n",
       "  '2018': 0.010526315789473684,\n",
       "  '2019': 0.010526315789473684},\n",
       " {'Â': 1.0},\n",
       " {'TheÂ': 0.016129032258064516,\n",
       "  '4': 0.016129032258064516,\n",
       "  'croreÂ': 0.016129032258064516,\n",
       "  'saplings': 0.016129032258064516,\n",
       "  'for': 0.016129032258064516,\n",
       "  'the': 0.04838709677419355,\n",
       "  'year': 0.016129032258064516,\n",
       "  '2017': 0.016129032258064516,\n",
       "  'will': 0.016129032258064516,\n",
       "  'be': 0.016129032258064516,\n",
       "  'planted': 0.016129032258064516,\n",
       "  'during': 0.016129032258064516,\n",
       "  'Vanmohotsav': 0.016129032258064516,\n",
       "  ',': 0.14516129032258066,\n",
       "  'Â': 0.016129032258064516,\n",
       "  'July': 0.03225806451612903,\n",
       "  '1st': 0.016129032258064516,\n",
       "  'to': 0.016129032258064516,\n",
       "  '7thÂ': 0.016129032258064516,\n",
       "  'in': 0.016129032258064516,\n",
       "  'a': 0.016129032258064516,\n",
       "  'state-wide': 0.016129032258064516,\n",
       "  'driveÂ': 0.016129032258064516,\n",
       "  'with': 0.03225806451612903,\n",
       "  'involvement': 0.016129032258064516,\n",
       "  'of': 0.04838709677419355,\n",
       "  '33': 0.016129032258064516,\n",
       "  'government': 0.016129032258064516,\n",
       "  'departments': 0.016129032258064516,\n",
       "  'along': 0.016129032258064516,\n",
       "  'Students': 0.016129032258064516,\n",
       "  'Schools': 0.016129032258064516,\n",
       "  'and': 0.03225806451612903,\n",
       "  'Colleges': 0.016129032258064516,\n",
       "  'NSS': 0.016129032258064516,\n",
       "  'NCC': 0.016129032258064516,\n",
       "  'CSR': 0.016129032258064516,\n",
       "  'NGOs': 0.016129032258064516,\n",
       "  'Railways': 0.016129032258064516,\n",
       "  'National': 0.016129032258064516,\n",
       "  'Highways': 0.016129032258064516,\n",
       "  'Defence': 0.016129032258064516,\n",
       "  'NABARD': 0.016129032258064516,\n",
       "  'other': 0.016129032258064516,\n",
       "  'stakeholders': 0.016129032258064516,\n",
       "  'Society': 0.016129032258064516,\n",
       "  '.': 0.016129032258064516},\n",
       " {'Â': 1.0},\n",
       " {'In': 0.009900990099009901,\n",
       "  'a': 0.009900990099009901,\n",
       "  'first': 0.009900990099009901,\n",
       "  'of': 0.0297029702970297,\n",
       "  'its': 0.009900990099009901,\n",
       "  'kind': 0.009900990099009901,\n",
       "  ',': 0.04950495049504951,\n",
       "  'aÂ': 0.019801980198019802,\n",
       "  '24-hourÂ': 0.009900990099009901,\n",
       "  'toll': 0.009900990099009901,\n",
       "  'freeÂ': 0.009900990099009901,\n",
       "  'helpline': 0.009900990099009901,\n",
       "  'number': 0.009900990099009901,\n",
       "  '1926Â': 0.009900990099009901,\n",
       "  'called': 0.019801980198019802,\n",
       "  'â€˜Hello': 0.009900990099009901,\n",
       "  'Forestâ€™': 0.009900990099009901,\n",
       "  'has': 0.019801980198019802,\n",
       "  'been': 0.009900990099009901,\n",
       "  'set': 0.009900990099009901,\n",
       "  'up': 0.009900990099009901,\n",
       "  'to': 0.039603960396039604,\n",
       "  'provide': 0.009900990099009901,\n",
       "  'information': 0.009900990099009901,\n",
       "  'regarding': 0.009900990099009901,\n",
       "  'plantation': 0.0297029702970297,\n",
       "  'protection': 0.009900990099009901,\n",
       "  'and': 0.039603960396039604,\n",
       "  'for': 0.009900990099009901,\n",
       "  'mass': 0.009900990099009901,\n",
       "  'awareness': 0.009900990099009901,\n",
       "  '.': 0.019801980198019802,\n",
       "  'The': 0.009900990099009901,\n",
       "  'Forest': 0.019801980198019802,\n",
       "  'Department': 0.019801980198019802,\n",
       "  'created': 0.009900990099009901,\n",
       "  'mobile': 0.009900990099009901,\n",
       "  'application': 0.0297029702970297,\n",
       "  'â€˜My': 0.009900990099009901,\n",
       "  'Plantsâ€™Â': 0.009900990099009901,\n",
       "  'record': 0.019801980198019802,\n",
       "  'details': 0.009900990099009901,\n",
       "  'the': 0.039603960396039604,\n",
       "  'such': 0.009900990099009901,\n",
       "  'as': 0.009900990099009901,\n",
       "  'numbers': 0.009900990099009901,\n",
       "  'species': 0.009900990099009901,\n",
       "  'location': 0.009900990099009901,\n",
       "  'into': 0.009900990099009901,\n",
       "  'computer': 0.009900990099009901,\n",
       "  'system': 0.009900990099009901,\n",
       "  'All': 0.009900990099009901,\n",
       "  'volunteers': 0.009900990099009901,\n",
       "  'at': 0.009900990099009901,\n",
       "  'individual': 0.009900990099009901,\n",
       "  'collective': 0.009900990099009901,\n",
       "  'organizational': 0.009900990099009901,\n",
       "  'level': 0.009900990099009901,\n",
       "  'should': 0.009900990099009901,\n",
       "  'download': 0.009900990099009901,\n",
       "  'use': 0.009900990099009901,\n",
       "  'this': 0.009900990099009901,\n",
       "  'their': 0.009900990099009901,\n",
       "  'tree': 0.009900990099009901,\n",
       "  'work': 0.009900990099009901,\n",
       "  'through': 0.009900990099009901,\n",
       "  'which': 0.009900990099009901,\n",
       "  'will': 0.009900990099009901,\n",
       "  'be': 0.009900990099009901,\n",
       "  'operational': 0.009900990099009901,\n",
       "  'from': 0.009900990099009901,\n",
       "  '1stÂ': 0.009900990099009901,\n",
       "  'July': 0.009900990099009901,\n",
       "  '7thÂ': 0.009900990099009901,\n",
       "  'July.Â': 0.009900990099009901},\n",
       " {'Â': 1.0},\n",
       " {'In': 0.016129032258064516,\n",
       "  'consonance': 0.016129032258064516,\n",
       "  'of': 0.03225806451612903,\n",
       "  'the': 0.0967741935483871,\n",
       "  'public': 0.016129032258064516,\n",
       "  'participation': 0.016129032258064516,\n",
       "  ',': 0.08064516129032258,\n",
       "  'Maharashtra': 0.016129032258064516,\n",
       "  'Forest': 0.016129032258064516,\n",
       "  'Department': 0.016129032258064516,\n",
       "  'has': 0.016129032258064516,\n",
       "  'initiated': 0.016129032258064516,\n",
       "  'â€˜Maharashtra': 0.016129032258064516,\n",
       "  'Harit': 0.016129032258064516,\n",
       "  'Senaâ€™/': 0.016129032258064516,\n",
       "  'â€˜Green': 0.016129032258064516,\n",
       "  'Armyâ€™': 0.016129032258064516,\n",
       "  'which': 0.016129032258064516,\n",
       "  'is': 0.016129032258064516,\n",
       "  'a': 0.016129032258064516,\n",
       "  'body': 0.016129032258064516,\n",
       "  'dedicated': 0.016129032258064516,\n",
       "  'volunteers': 0.016129032258064516,\n",
       "  'to': 0.016129032258064516,\n",
       "  'participate': 0.016129032258064516,\n",
       "  'in': 0.04838709677419355,\n",
       "  'plantation': 0.016129032258064516,\n",
       "  'protection': 0.016129032258064516,\n",
       "  'and': 0.04838709677419355,\n",
       "  'activities': 0.016129032258064516,\n",
       "  'forest': 0.016129032258064516,\n",
       "  'wildlife': 0.016129032258064516,\n",
       "  'related': 0.016129032258064516,\n",
       "  'sectors': 0.016129032258064516,\n",
       "  'around': 0.016129032258064516,\n",
       "  'year': 0.016129032258064516,\n",
       "  '.': 0.016129032258064516,\n",
       "  'Individuals': 0.016129032258064516,\n",
       "  'organisations': 0.016129032258064516,\n",
       "  'interested': 0.016129032258064516,\n",
       "  'volunteering': 0.016129032258064516,\n",
       "  'can': 0.016129032258064516,\n",
       "  'register': 0.016129032258064516,\n",
       "  'on': 0.016129032258064516,\n",
       "  'Green': 0.016129032258064516,\n",
       "  'Army': 0.016129032258064516,\n",
       "  'websiteÂ': 0.016129032258064516,\n",
       "  'www.greenarmy.mahaforest.gov.in': 0.016129032258064516},\n",
       " {'Â': 1.0},\n",
       " {'An': 0.041666666666666664,\n",
       "  'integrated': 0.041666666666666664,\n",
       "  'drive': 0.041666666666666664,\n",
       "  'has': 0.041666666666666664,\n",
       "  'been': 0.041666666666666664,\n",
       "  'set': 0.041666666666666664,\n",
       "  'in': 0.041666666666666664,\n",
       "  'place': 0.041666666666666664,\n",
       "  'to': 0.041666666666666664,\n",
       "  'ensure': 0.041666666666666664,\n",
       "  'seamless': 0.041666666666666664,\n",
       "  'and': 0.041666666666666664,\n",
       "  'successful': 0.041666666666666664,\n",
       "  'participation': 0.041666666666666664,\n",
       "  'from': 0.041666666666666664,\n",
       "  'all': 0.041666666666666664,\n",
       "  'stakeholders': 0.041666666666666664,\n",
       "  'of': 0.041666666666666664,\n",
       "  'society': 0.041666666666666664,\n",
       "  ',': 0.041666666666666664,\n",
       "  'especially': 0.041666666666666664,\n",
       "  'the': 0.041666666666666664,\n",
       "  'public': 0.041666666666666664,\n",
       "  '.': 0.041666666666666664},\n",
       " {},\n",
       " {}]"
      ]
     },
     "execution_count": 78,
     "metadata": {},
     "output_type": "execute_result"
    }
   ],
   "source": [
    "term_frequency = get_term_frequency(document_tokens)\n",
    "term_frequency"
   ]
  },
  {
   "cell_type": "code",
   "execution_count": 79,
   "id": "2029dbda",
   "metadata": {},
   "outputs": [],
   "source": [
    "def get_inverse_document_frequency(term_frequency):\n",
    "  document_cnt = len(term_frequency)\n",
    "  inverse_document_frequencies = []\n",
    "  for document in term_frequency:\n",
    "    tokens = list(document.keys())\n",
    "    inverse_document_frequency = {}\n",
    "    for token in tokens:\n",
    "      document_freq=1\n",
    "      for doc in term_frequency:\n",
    "        if(token in doc.keys()):\n",
    "          document_freq+=1\n",
    "      inverse_document_frequency[token] = math.log(document_cnt/document_freq)\n",
    "    inverse_document_frequencies.append(inverse_document_frequency)\n",
    "  return inverse_document_frequencies"
   ]
  },
  {
   "cell_type": "code",
   "execution_count": 80,
   "id": "fdf115fa",
   "metadata": {},
   "outputs": [],
   "source": [
    "inverse_document_frequency = get_inverse_document_frequency(term_frequency)"
   ]
  },
  {
   "cell_type": "code",
   "execution_count": null,
   "id": "69cff11e",
   "metadata": {},
   "outputs": [],
   "source": []
  }
 ],
 "metadata": {
  "kernelspec": {
   "display_name": "Python 3",
   "language": "python",
   "name": "python3"
  },
  "language_info": {
   "codemirror_mode": {
    "name": "ipython",
    "version": 3
   },
   "file_extension": ".py",
   "mimetype": "text/x-python",
   "name": "python",
   "nbconvert_exporter": "python",
   "pygments_lexer": "ipython3",
   "version": "3.8.8"
  }
 },
 "nbformat": 4,
 "nbformat_minor": 5
}
