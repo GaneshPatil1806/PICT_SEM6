{
 "cells": [
  {
   "cell_type": "code",
   "execution_count": 1,
   "id": "435647c5",
   "metadata": {},
   "outputs": [],
   "source": [
    "# Perform the following operations on any open-source dataset (e.g., data.csv)\n",
    "# Provide summary statistics (mean, median, minimum, maximum, standard deviation) for a dataset (age, income etc.) with numeric variables grouped by one of the qualitative (categorical) variable. For example, if your categorical variable is age groups and quantitative variable is income, then provide summary statistics of income grouped by the age groups. Create a list that contains a numeric value for each response to the categorical variable.\n",
    "# Write a Python program to display some basic statistical details like percentile, mean, standard deviation etc. of the species of ‘Iris-setosa’, ‘Iris-versicolor’ and ‘Iris- verginica’ of iris.csv dataset.\n",
    "# Provide the codes with outputs and explain everything that you do in this step."
   ]
  },
  {
   "cell_type": "code",
   "execution_count": 5,
   "id": "5c24148e",
   "metadata": {},
   "outputs": [],
   "source": [
    "import pandas as pd"
   ]
  },
  {
   "cell_type": "code",
   "execution_count": 5,
   "id": "f88731e8",
   "metadata": {},
   "outputs": [
    {
     "data": {
      "text/html": [
       "<div>\n",
       "<style scoped>\n",
       "    .dataframe tbody tr th:only-of-type {\n",
       "        vertical-align: middle;\n",
       "    }\n",
       "\n",
       "    .dataframe tbody tr th {\n",
       "        vertical-align: top;\n",
       "    }\n",
       "\n",
       "    .dataframe thead th {\n",
       "        text-align: right;\n",
       "    }\n",
       "</style>\n",
       "<table border=\"1\" class=\"dataframe\">\n",
       "  <thead>\n",
       "    <tr style=\"text-align: right;\">\n",
       "      <th></th>\n",
       "      <th>Name</th>\n",
       "      <th>Team</th>\n",
       "      <th>Number</th>\n",
       "      <th>Position</th>\n",
       "      <th>Age</th>\n",
       "      <th>Height</th>\n",
       "      <th>Weight</th>\n",
       "      <th>College</th>\n",
       "      <th>Salary</th>\n",
       "    </tr>\n",
       "  </thead>\n",
       "  <tbody>\n",
       "    <tr>\n",
       "      <th>0</th>\n",
       "      <td>Avery Bradley</td>\n",
       "      <td>Boston Celtics</td>\n",
       "      <td>0.0</td>\n",
       "      <td>PG</td>\n",
       "      <td>25.0</td>\n",
       "      <td>6-2</td>\n",
       "      <td>180.0</td>\n",
       "      <td>Texas</td>\n",
       "      <td>7730337.0</td>\n",
       "    </tr>\n",
       "    <tr>\n",
       "      <th>1</th>\n",
       "      <td>Jae Crowder</td>\n",
       "      <td>Boston Celtics</td>\n",
       "      <td>99.0</td>\n",
       "      <td>SF</td>\n",
       "      <td>25.0</td>\n",
       "      <td>6-6</td>\n",
       "      <td>235.0</td>\n",
       "      <td>Marquette</td>\n",
       "      <td>6796117.0</td>\n",
       "    </tr>\n",
       "    <tr>\n",
       "      <th>2</th>\n",
       "      <td>John Holland</td>\n",
       "      <td>Boston Celtics</td>\n",
       "      <td>30.0</td>\n",
       "      <td>SG</td>\n",
       "      <td>27.0</td>\n",
       "      <td>6-5</td>\n",
       "      <td>205.0</td>\n",
       "      <td>Boston University</td>\n",
       "      <td>NaN</td>\n",
       "    </tr>\n",
       "    <tr>\n",
       "      <th>3</th>\n",
       "      <td>R.J. Hunter</td>\n",
       "      <td>Boston Celtics</td>\n",
       "      <td>28.0</td>\n",
       "      <td>SG</td>\n",
       "      <td>22.0</td>\n",
       "      <td>6-5</td>\n",
       "      <td>185.0</td>\n",
       "      <td>Georgia State</td>\n",
       "      <td>1148640.0</td>\n",
       "    </tr>\n",
       "    <tr>\n",
       "      <th>4</th>\n",
       "      <td>Jonas Jerebko</td>\n",
       "      <td>Boston Celtics</td>\n",
       "      <td>8.0</td>\n",
       "      <td>PF</td>\n",
       "      <td>29.0</td>\n",
       "      <td>6-10</td>\n",
       "      <td>231.0</td>\n",
       "      <td>NaN</td>\n",
       "      <td>5000000.0</td>\n",
       "    </tr>\n",
       "    <tr>\n",
       "      <th>...</th>\n",
       "      <td>...</td>\n",
       "      <td>...</td>\n",
       "      <td>...</td>\n",
       "      <td>...</td>\n",
       "      <td>...</td>\n",
       "      <td>...</td>\n",
       "      <td>...</td>\n",
       "      <td>...</td>\n",
       "      <td>...</td>\n",
       "    </tr>\n",
       "    <tr>\n",
       "      <th>453</th>\n",
       "      <td>Shelvin Mack</td>\n",
       "      <td>Utah Jazz</td>\n",
       "      <td>8.0</td>\n",
       "      <td>PG</td>\n",
       "      <td>26.0</td>\n",
       "      <td>6-3</td>\n",
       "      <td>203.0</td>\n",
       "      <td>Butler</td>\n",
       "      <td>2433333.0</td>\n",
       "    </tr>\n",
       "    <tr>\n",
       "      <th>454</th>\n",
       "      <td>Raul Neto</td>\n",
       "      <td>Utah Jazz</td>\n",
       "      <td>25.0</td>\n",
       "      <td>PG</td>\n",
       "      <td>24.0</td>\n",
       "      <td>6-1</td>\n",
       "      <td>179.0</td>\n",
       "      <td>NaN</td>\n",
       "      <td>900000.0</td>\n",
       "    </tr>\n",
       "    <tr>\n",
       "      <th>455</th>\n",
       "      <td>Tibor Pleiss</td>\n",
       "      <td>Utah Jazz</td>\n",
       "      <td>21.0</td>\n",
       "      <td>C</td>\n",
       "      <td>26.0</td>\n",
       "      <td>7-3</td>\n",
       "      <td>256.0</td>\n",
       "      <td>NaN</td>\n",
       "      <td>2900000.0</td>\n",
       "    </tr>\n",
       "    <tr>\n",
       "      <th>456</th>\n",
       "      <td>Jeff Withey</td>\n",
       "      <td>Utah Jazz</td>\n",
       "      <td>24.0</td>\n",
       "      <td>C</td>\n",
       "      <td>26.0</td>\n",
       "      <td>7-0</td>\n",
       "      <td>231.0</td>\n",
       "      <td>Kansas</td>\n",
       "      <td>947276.0</td>\n",
       "    </tr>\n",
       "    <tr>\n",
       "      <th>457</th>\n",
       "      <td>NaN</td>\n",
       "      <td>NaN</td>\n",
       "      <td>NaN</td>\n",
       "      <td>NaN</td>\n",
       "      <td>NaN</td>\n",
       "      <td>NaN</td>\n",
       "      <td>NaN</td>\n",
       "      <td>NaN</td>\n",
       "      <td>NaN</td>\n",
       "    </tr>\n",
       "  </tbody>\n",
       "</table>\n",
       "<p>458 rows × 9 columns</p>\n",
       "</div>"
      ],
      "text/plain": [
       "              Name            Team  Number Position   Age Height  Weight  \\\n",
       "0    Avery Bradley  Boston Celtics     0.0       PG  25.0    6-2   180.0   \n",
       "1      Jae Crowder  Boston Celtics    99.0       SF  25.0    6-6   235.0   \n",
       "2     John Holland  Boston Celtics    30.0       SG  27.0    6-5   205.0   \n",
       "3      R.J. Hunter  Boston Celtics    28.0       SG  22.0    6-5   185.0   \n",
       "4    Jonas Jerebko  Boston Celtics     8.0       PF  29.0   6-10   231.0   \n",
       "..             ...             ...     ...      ...   ...    ...     ...   \n",
       "453   Shelvin Mack       Utah Jazz     8.0       PG  26.0    6-3   203.0   \n",
       "454      Raul Neto       Utah Jazz    25.0       PG  24.0    6-1   179.0   \n",
       "455   Tibor Pleiss       Utah Jazz    21.0        C  26.0    7-3   256.0   \n",
       "456    Jeff Withey       Utah Jazz    24.0        C  26.0    7-0   231.0   \n",
       "457            NaN             NaN     NaN      NaN   NaN    NaN     NaN   \n",
       "\n",
       "               College     Salary  \n",
       "0                Texas  7730337.0  \n",
       "1            Marquette  6796117.0  \n",
       "2    Boston University        NaN  \n",
       "3        Georgia State  1148640.0  \n",
       "4                  NaN  5000000.0  \n",
       "..                 ...        ...  \n",
       "453             Butler  2433333.0  \n",
       "454                NaN   900000.0  \n",
       "455                NaN  2900000.0  \n",
       "456             Kansas   947276.0  \n",
       "457                NaN        NaN  \n",
       "\n",
       "[458 rows x 9 columns]"
      ]
     },
     "execution_count": 5,
     "metadata": {},
     "output_type": "execute_result"
    }
   ],
   "source": [
    "df = pd.read_csv(\"https://raw.githubusercontent.com/GaneshPatil1806/PICT_SEM6/main/DSBDA/nba.csv\")\n",
    "df"
   ]
  },
  {
   "cell_type": "code",
   "execution_count": 33,
   "id": "3b584748",
   "metadata": {},
   "outputs": [],
   "source": [
    "df.describe()"
   ]
  },
  {
   "cell_type": "code",
   "execution_count": 36,
   "id": "aa9230c9",
   "metadata": {},
   "outputs": [
    {
     "name": "stdout",
     "output_type": "stream",
     "text": [
      "                        count       mean       std   min    25%   50%    75%  \\\n",
      "Team                                                                           \n",
      "Atlanta Hawks            15.0  28.200000  4.229151  22.0  24.00  27.0  31.00   \n",
      "Boston Celtics           15.0  24.733333  2.840188  20.0  22.00  25.0  27.00   \n",
      "Brooklyn Nets            15.0  25.600000  3.018988  21.0  23.50  26.0  27.50   \n",
      "Charlotte Hornets        15.0  26.133333  3.159265  21.0  23.50  27.0  28.50   \n",
      "Chicago Bulls            15.0  27.400000  4.188419  21.0  24.50  27.0  30.50   \n",
      "Cleveland Cavaliers      15.0  29.533333  4.120795  24.0  25.00  30.0  33.00   \n",
      "Dallas Mavericks         15.0  29.733333  3.712271  22.0  28.00  31.0  31.50   \n",
      "Denver Nuggets           15.0  25.733333  4.742915  20.0  22.00  25.0  28.00   \n",
      "Detroit Pistons          15.0  26.200000  4.443294  20.0  23.00  25.0  28.50   \n",
      "Golden State Warriors    15.0  27.666667  3.848314  20.0  25.50  28.0  30.50   \n",
      "Houston Rockets          15.0  26.866667  4.323799  22.0  23.50  27.0  30.00   \n",
      "Indiana Pacers           15.0  26.400000  3.157757  20.0  24.50  27.0  29.00   \n",
      "Los Angeles Clippers     15.0  29.466667  4.897035  23.0  27.00  29.0  31.00   \n",
      "Los Angeles Lakers       15.0  27.533333  5.289702  20.0  23.50  27.0  31.00   \n",
      "Memphis Grizzlies        18.0  28.388889  5.585052  21.0  24.00  28.0  33.25   \n",
      "Miami Heat               15.0  28.933333  4.861902  20.0  25.00  30.0  32.50   \n",
      "Milwaukee Bucks          16.0  24.562500  3.520772  19.0  21.00  24.5  27.00   \n",
      "Minnesota Timberwolves   14.0  26.357143  5.930458  20.0  21.50  25.0  28.75   \n",
      "New Orleans Pelicans     19.0  26.894737  2.233451  23.0  25.00  27.0  28.50   \n",
      "New York Knicks          16.0  27.000000  4.179314  20.0  23.75  26.0  30.50   \n",
      "Oklahoma City Thunder    15.0  27.066667  4.832430  21.0  24.00  26.0  29.00   \n",
      "Orlando Magic            14.0  25.071429  3.429830  20.0  23.00  24.5  26.00   \n",
      "Philadelphia 76ers       15.0  24.600000  4.563833  20.0  22.00  24.0  25.00   \n",
      "Phoenix Suns             15.0  25.866667  4.240395  19.0  22.50  25.0  29.00   \n",
      "Portland Trail Blazers   15.0  25.066667  3.634491  20.0  23.00  24.0  26.50   \n",
      "Sacramento Kings         15.0  26.800000  3.529468  22.0  24.50  27.0  28.50   \n",
      "San Antonio Spurs        15.0  31.600000  5.766901  22.0  27.00  33.0  35.50   \n",
      "Toronto Raptors          15.0  26.133333  3.961722  20.0  23.50  25.0  29.00   \n",
      "Utah Jazz                15.0  24.466667  2.445599  20.0  23.00  24.0  26.00   \n",
      "Washington Wizards       15.0  27.866667  4.389381  20.0  24.50  29.0  31.00   \n",
      "\n",
      "                         max  \n",
      "Team                          \n",
      "Atlanta Hawks           35.0  \n",
      "Boston Celtics          29.0  \n",
      "Brooklyn Nets           32.0  \n",
      "Charlotte Hornets       31.0  \n",
      "Chicago Bulls           35.0  \n",
      "Cleveland Cavaliers     35.0  \n",
      "Dallas Mavericks        37.0  \n",
      "Denver Nuggets          36.0  \n",
      "Detroit Pistons         36.0  \n",
      "Golden State Warriors   33.0  \n",
      "Houston Rockets         38.0  \n",
      "Indiana Pacers          30.0  \n",
      "Los Angeles Clippers    39.0  \n",
      "Los Angeles Lakers      37.0  \n",
      "Memphis Grizzlies       39.0  \n",
      "Miami Heat              36.0  \n",
      "Milwaukee Bucks         32.0  \n",
      "Minnesota Timberwolves  40.0  \n",
      "New Orleans Pelicans    31.0  \n",
      "New York Knicks         34.0  \n",
      "Oklahoma City Thunder   38.0  \n",
      "Orlando Magic           32.0  \n",
      "Philadelphia 76ers      37.0  \n",
      "Phoenix Suns            33.0  \n",
      "Portland Trail Blazers  34.0  \n",
      "Sacramento Kings        36.0  \n",
      "San Antonio Spurs       40.0  \n",
      "Toronto Raptors         36.0  \n",
      "Utah Jazz               28.0  \n",
      "Washington Wizards      34.0  \n"
     ]
    }
   ],
   "source": [
    "# to calculate the statistics of the age grouped by teams\n",
    "summary_statistics = df.groupby('Team')['Age'].describe()\n",
    "print(summary_statistics)"
   ]
  },
  {
   "cell_type": "code",
   "execution_count": 18,
   "id": "1ea66f99",
   "metadata": {},
   "outputs": [
    {
     "name": "stdout",
     "output_type": "stream",
     "text": [
      "Numeric values for each response (mean age for each team): [28.2, 24.733333333333334, 25.6, 26.133333333333333, 27.4, 29.533333333333335, 29.733333333333334, 25.733333333333334, 26.2, 27.666666666666668, 26.866666666666667, 26.4, 29.466666666666665, 27.533333333333335, 28.38888888888889, 28.933333333333334, 24.5625, 26.357142857142858, 26.894736842105264, 27.0, 27.066666666666666, 25.071428571428573, 24.6, 25.866666666666667, 25.066666666666666, 26.8, 31.6, 26.133333333333333, 24.466666666666665, 27.866666666666667]\n"
     ]
    }
   ],
   "source": [
    "# list of numeric values for each response (mean age for each team):\n",
    "numeric_values = summary_statistics['Age']['mean'].tolist()\n",
    "print(\"Numeric values for each response (mean age for each team):\", numeric_values)"
   ]
  },
  {
   "cell_type": "code",
   "execution_count": 20,
   "id": "972a945a",
   "metadata": {},
   "outputs": [],
   "source": [
    "# part 2\n",
    "iris_data = pd.read_csv('Iris.csv')"
   ]
  },
  {
   "cell_type": "code",
   "execution_count": 37,
   "id": "264f773b",
   "metadata": {},
   "outputs": [
    {
     "name": "stdout",
     "output_type": "stream",
     "text": [
      "      Id  SepalLengthCm  SepalWidthCm  PetalLengthCm  PetalWidthCm  \\\n",
      "0      1            5.1           3.5            1.4           0.2   \n",
      "1      2            4.9           3.0            1.4           0.2   \n",
      "2      3            4.7           3.2            1.3           0.2   \n",
      "3      4            4.6           3.1            1.5           0.2   \n",
      "4      5            5.0           3.6            1.4           0.2   \n",
      "..   ...            ...           ...            ...           ...   \n",
      "145  146            6.7           3.0            5.2           2.3   \n",
      "146  147            6.3           2.5            5.0           1.9   \n",
      "147  148            6.5           3.0            5.2           2.0   \n",
      "148  149            6.2           3.4            5.4           2.3   \n",
      "149  150            5.9           3.0            5.1           1.8   \n",
      "\n",
      "            Species  \n",
      "0       Iris-setosa  \n",
      "1       Iris-setosa  \n",
      "2       Iris-setosa  \n",
      "3       Iris-setosa  \n",
      "4       Iris-setosa  \n",
      "..              ...  \n",
      "145  Iris-virginica  \n",
      "146  Iris-virginica  \n",
      "147  Iris-virginica  \n",
      "148  Iris-virginica  \n",
      "149  Iris-virginica  \n",
      "\n",
      "[150 rows x 6 columns]\n"
     ]
    }
   ],
   "source": [
    "print(iris_data)"
   ]
  },
  {
   "cell_type": "code",
   "execution_count": 38,
   "id": "eb3e45bf",
   "metadata": {},
   "outputs": [],
   "source": [
    "species_to_filter = ['Iris-setosa', 'Iris-versicolor','Iris-virginica']\n",
    "filtered_data = iris_data[iris_data['Species'].isin(species_to_filter)]"
   ]
  },
  {
   "cell_type": "code",
   "execution_count": 39,
   "id": "fc0cd2d7",
   "metadata": {},
   "outputs": [
    {
     "name": "stdout",
     "output_type": "stream",
     "text": [
      "      Id  SepalLengthCm  SepalWidthCm  PetalLengthCm  PetalWidthCm  \\\n",
      "0      1            5.1           3.5            1.4           0.2   \n",
      "1      2            4.9           3.0            1.4           0.2   \n",
      "2      3            4.7           3.2            1.3           0.2   \n",
      "3      4            4.6           3.1            1.5           0.2   \n",
      "4      5            5.0           3.6            1.4           0.2   \n",
      "..   ...            ...           ...            ...           ...   \n",
      "145  146            6.7           3.0            5.2           2.3   \n",
      "146  147            6.3           2.5            5.0           1.9   \n",
      "147  148            6.5           3.0            5.2           2.0   \n",
      "148  149            6.2           3.4            5.4           2.3   \n",
      "149  150            5.9           3.0            5.1           1.8   \n",
      "\n",
      "            Species  \n",
      "0       Iris-setosa  \n",
      "1       Iris-setosa  \n",
      "2       Iris-setosa  \n",
      "3       Iris-setosa  \n",
      "4       Iris-setosa  \n",
      "..              ...  \n",
      "145  Iris-virginica  \n",
      "146  Iris-virginica  \n",
      "147  Iris-virginica  \n",
      "148  Iris-virginica  \n",
      "149  Iris-virginica  \n",
      "\n",
      "[150 rows x 6 columns]\n"
     ]
    }
   ],
   "source": [
    "print(filtered_data)"
   ]
  },
  {
   "cell_type": "code",
   "execution_count": 40,
   "id": "64505119",
   "metadata": {},
   "outputs": [
    {
     "data": {
      "text/plain": [
       "Iris-setosa        50\n",
       "Iris-versicolor    50\n",
       "Iris-virginica     50\n",
       "Name: Species, dtype: int64"
      ]
     },
     "execution_count": 40,
     "metadata": {},
     "output_type": "execute_result"
    }
   ],
   "source": [
    "iris_data['Species'].value_counts()"
   ]
  },
  {
   "cell_type": "code",
   "execution_count": 47,
   "id": "c84993e6",
   "metadata": {},
   "outputs": [
    {
     "name": "stdout",
     "output_type": "stream",
     "text": [
      "               count    mean        std  min     25%   50%     75%   max\n",
      "Id              50.0  25.500  14.577380  1.0  13.250  25.5  37.750  50.0\n",
      "SepalLengthCm   50.0   5.006   0.352490  4.3   4.800   5.0   5.200   5.8\n",
      "SepalWidthCm    50.0   3.418   0.381024  2.3   3.125   3.4   3.675   4.4\n",
      "PetalLengthCm   50.0   1.464   0.173511  1.0   1.400   1.5   1.575   1.9\n",
      "PetalWidthCm    50.0   0.244   0.107210  0.1   0.200   0.2   0.300   0.6 \n",
      "\n",
      "               count     mean        std    min      25%     50%      75%  \\\n",
      "Id              50.0  125.500  14.577380  101.0  113.250  125.50  137.750   \n",
      "SepalLengthCm   50.0    6.588   0.635880    4.9    6.225    6.50    6.900   \n",
      "SepalWidthCm    50.0    2.974   0.322497    2.2    2.800    3.00    3.175   \n",
      "PetalLengthCm   50.0    5.552   0.551895    4.5    5.100    5.55    5.875   \n",
      "PetalWidthCm    50.0    2.026   0.274650    1.4    1.800    2.00    2.300   \n",
      "\n",
      "                 max  \n",
      "Id             150.0  \n",
      "SepalLengthCm    7.9  \n",
      "SepalWidthCm     3.8  \n",
      "PetalLengthCm    6.9  \n",
      "PetalWidthCm     2.5   \n",
      "\n",
      "               count    mean        std  min     25%   50%     75%   max\n",
      "Id              50.0  25.500  14.577380  1.0  13.250  25.5  37.750  50.0\n",
      "SepalLengthCm   50.0   5.006   0.352490  4.3   4.800   5.0   5.200   5.8\n",
      "SepalWidthCm    50.0   3.418   0.381024  2.3   3.125   3.4   3.675   4.4\n",
      "PetalLengthCm   50.0   1.464   0.173511  1.0   1.400   1.5   1.575   1.9\n",
      "PetalWidthCm    50.0   0.244   0.107210  0.1   0.200   0.2   0.300   0.6\n"
     ]
    }
   ],
   "source": [
    "print(iris_data[iris_data.Species=='Iris-setosa'].describe().transpose(),\"\\n\")\n",
    "print(iris_data[iris_data.Species=='Iris-virginica'].describe().transpose(),\"\\n\")\n",
    "print(iris_data[iris_data.Species=='Iris-setosa'].describe().transpose())"
   ]
  },
  {
   "cell_type": "code",
   "execution_count": 58,
   "id": "ad05dd8b",
   "metadata": {},
   "outputs": [
    {
     "name": "stdout",
     "output_type": "stream",
     "text": [
      "26.938730853391686\n",
      "26.938730853391686\n",
      "19.395360666436343\n",
      "19.35292005228658\n"
     ]
    }
   ],
   "source": [
    "# manual calculations\n",
    "mean = df['Age'].mean()\n",
    "print(mean)\n",
    "\n",
    "mean = df['Age'].sum()/df['Age'].count()\n",
    "print(mean)\n",
    "\n",
    "# variance \n",
    "var = ((df['Age']-mean)*(df['Age']-mean)).sum()/(df['Age'].count())\n",
    "print(df['Age'].var())\n",
    "print(var)"
   ]
  }
 ],
 "metadata": {
  "kernelspec": {
   "display_name": "Python 3",
   "language": "python",
   "name": "python3"
  },
  "language_info": {
   "codemirror_mode": {
    "name": "ipython",
    "version": 3
   },
   "file_extension": ".py",
   "mimetype": "text/x-python",
   "name": "python",
   "nbconvert_exporter": "python",
   "pygments_lexer": "ipython3",
   "version": "3.8.8"
  }
 },
 "nbformat": 4,
 "nbformat_minor": 5
}
