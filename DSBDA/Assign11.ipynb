{
 "cells": [
  {
   "cell_type": "code",
   "execution_count": 3,
   "id": "1f1c9fbe",
   "metadata": {},
   "outputs": [
    {
     "name": "stderr",
     "output_type": "stream",
     "text": [
      "[nltk_data] Downloading package punkt to\n",
      "[nltk_data]     C:\\Users\\Asus\\AppData\\Roaming\\nltk_data...\n",
      "[nltk_data]   Package punkt is already up-to-date!\n",
      "[nltk_data] Downloading package stopwords to\n",
      "[nltk_data]     C:\\Users\\Asus\\AppData\\Roaming\\nltk_data...\n",
      "[nltk_data]   Package stopwords is already up-to-date!\n",
      "[nltk_data] Downloading package wordnet to\n",
      "[nltk_data]     C:\\Users\\Asus\\AppData\\Roaming\\nltk_data...\n",
      "[nltk_data]   Package wordnet is already up-to-date!\n",
      "[nltk_data] Downloading package averaged_perceptron_tagger to\n",
      "[nltk_data]     C:\\Users\\Asus\\AppData\\Roaming\\nltk_data...\n",
      "[nltk_data]   Package averaged_perceptron_tagger is already up-to-\n",
      "[nltk_data]       date!\n"
     ]
    },
    {
     "data": {
      "text/plain": [
       "True"
      ]
     },
     "execution_count": 3,
     "metadata": {},
     "output_type": "execute_result"
    }
   ],
   "source": [
    "import nltk\n",
    "nltk.download('punkt')\n",
    "nltk.download('stopwords')\n",
    "nltk.download('wordnet')\n",
    "nltk.download('averaged_perceptron_tagger')"
   ]
  },
  {
   "cell_type": "code",
   "execution_count": 5,
   "id": "1ab28e4e",
   "metadata": {},
   "outputs": [],
   "source": [
    "from nltk.corpus import stopwords\n",
    "from nltk.tokenize import word_tokenize, sent_tokenize \n",
    "from nltk.stem import PorterStemmer, WordNetLemmatizer\n",
    "from nltk import pos_tag"
   ]
  },
  {
   "cell_type": "code",
   "execution_count": 6,
   "id": "a0df2a84",
   "metadata": {},
   "outputs": [],
   "source": [
    "sentence1 = \"Stemming and lemmatization are different techniques used to reduce words to their root form, but they produce varying results. Lemmatization is better than stemming\""
   ]
  },
  {
   "cell_type": "code",
   "execution_count": 40,
   "id": "c4922d88",
   "metadata": {},
   "outputs": [],
   "source": [
    "import string\n",
    "\n",
    "def get_documents_tokens(sentence:str):\n",
    "    punctuation = string.punctuation + '{}()<>[]'\n",
    "    \n",
    "    for char in punctuation:\n",
    "        sentence=sentence.replace(char,\" \")\n",
    "    \n",
    "    sentence=sentence.lower()\n",
    "    sentence=sentence.split()\n",
    "    \n",
    "    return tokens"
   ]
  },
  {
   "cell_type": "code",
   "execution_count": 41,
   "id": "eb33bbe9",
   "metadata": {},
   "outputs": [],
   "source": [
    "tokens = get_documents_tokens(sentence1)"
   ]
  },
  {
   "cell_type": "code",
   "execution_count": 42,
   "id": "51b0135a",
   "metadata": {},
   "outputs": [
    {
     "data": {
      "text/plain": [
       "['stemming',\n",
       " 'and',\n",
       " 'lemmatization',\n",
       " 'are',\n",
       " 'different',\n",
       " 'techniques',\n",
       " 'used',\n",
       " 'to',\n",
       " 'reduce',\n",
       " 'words',\n",
       " 'to',\n",
       " 'their',\n",
       " 'root',\n",
       " 'form',\n",
       " 'but',\n",
       " 'they',\n",
       " 'produce',\n",
       " 'varying',\n",
       " 'results',\n",
       " 'lemmatization',\n",
       " 'is',\n",
       " 'better',\n",
       " 'than',\n",
       " 'stemming']"
      ]
     },
     "execution_count": 42,
     "metadata": {},
     "output_type": "execute_result"
    }
   ],
   "source": [
    "tokens"
   ]
  },
  {
   "cell_type": "code",
   "execution_count": 43,
   "id": "eae32980",
   "metadata": {},
   "outputs": [],
   "source": [
    "def remove_stopwords(tokens):\n",
    "    without = []\n",
    "    stop_words = list(stopwords.words('english'))  \n",
    "    for token in tokens: \n",
    "        if token not in stop_words: \n",
    "            without.append(token)\n",
    "    return without"
   ]
  },
  {
   "cell_type": "code",
   "execution_count": 45,
   "id": "29b8cc7b",
   "metadata": {
    "scrolled": true
   },
   "outputs": [
    {
     "data": {
      "text/plain": [
       "['stemming',\n",
       " 'lemmatization',\n",
       " 'different',\n",
       " 'techniques',\n",
       " 'used',\n",
       " 'reduce',\n",
       " 'words',\n",
       " 'root',\n",
       " 'form',\n",
       " 'produce',\n",
       " 'varying',\n",
       " 'results',\n",
       " 'lemmatization',\n",
       " 'better',\n",
       " 'stemming']"
      ]
     },
     "execution_count": 45,
     "metadata": {},
     "output_type": "execute_result"
    }
   ],
   "source": [
    "without_stopwords = remove_stopwords(tokens)\n",
    "len(without_stopwords)\n",
    "without_stopwords"
   ]
  },
  {
   "cell_type": "code",
   "execution_count": 48,
   "id": "6cfbfb60",
   "metadata": {},
   "outputs": [
    {
     "data": {
      "text/plain": [
       "[('stemming', 'VBG'),\n",
       " ('lemmatization', 'NN'),\n",
       " ('different', 'JJ'),\n",
       " ('techniques', 'NNS'),\n",
       " ('used', 'VBN'),\n",
       " ('reduce', 'VB'),\n",
       " ('words', 'NNS'),\n",
       " ('root', 'VBP'),\n",
       " ('form', 'NN'),\n",
       " ('produce', 'VBP'),\n",
       " ('varying', 'VBG'),\n",
       " ('results', 'NNS'),\n",
       " ('lemmatization', 'NN'),\n",
       " ('better', 'RBR'),\n",
       " ('stemming', 'NN')]"
      ]
     },
     "execution_count": 48,
     "metadata": {},
     "output_type": "execute_result"
    }
   ],
   "source": [
    "pos_tag_list = nltk.pos_tag(without_stopwords)\n",
    "pos_tag_list"
   ]
  },
  {
   "cell_type": "code",
   "execution_count": 52,
   "id": "925ace55",
   "metadata": {},
   "outputs": [
    {
     "name": "stdout",
     "output_type": "stream",
     "text": [
      "stemming =  stem\n",
      "lemmatization =  lemmat\n",
      "different =  differ\n",
      "techniques =  techniqu\n",
      "used =  use\n",
      "reduce =  reduc\n",
      "words =  word\n",
      "root =  root\n",
      "form =  form\n",
      "produce =  produc\n",
      "varying =  vari\n",
      "results =  result\n",
      "lemmatization =  lemmat\n",
      "better =  better\n",
      "stemming =  stem\n"
     ]
    }
   ],
   "source": [
    "stemmer = PorterStemmer()\n",
    "\n",
    "for i in without_stopwords:\n",
    "    print(i,\"= \",stemmer.stem(i))"
   ]
  },
  {
   "cell_type": "code",
   "execution_count": 53,
   "id": "e3e7c81b",
   "metadata": {},
   "outputs": [
    {
     "name": "stdout",
     "output_type": "stream",
     "text": [
      "stemming =  stemming\n",
      "lemmatization =  lemmatization\n",
      "different =  different\n",
      "techniques =  technique\n",
      "used =  used\n",
      "reduce =  reduce\n",
      "words =  word\n",
      "root =  root\n",
      "form =  form\n",
      "produce =  produce\n",
      "varying =  varying\n",
      "results =  result\n",
      "lemmatization =  lemmatization\n",
      "better =  better\n",
      "stemming =  stemming\n"
     ]
    }
   ],
   "source": [
    "lemmatizer = WordNetLemmatizer()\n",
    "for i in without_stopwords:\n",
    "    print(i,\"= \",lemmatizer.lemmatize(i))"
   ]
  },
  {
   "cell_type": "code",
   "execution_count": null,
   "id": "75293b77",
   "metadata": {},
   "outputs": [],
   "source": [
    "def calculateTF(token):\n",
    "    token_freq = {}\n",
    "    for w in token:\n",
    "        if w not in token_freq:\n",
    "            token_freq[w] = token.count(w)/len(token)\n",
    "    return token_freq\n",
    "\n",
    "calculateTF(tokens)\n",
    "\n",
    "def calculateTF(token):\n",
    "    token_freq = {}\n",
    "    for w in token:\n",
    "        "
   ]
  }
 ],
 "metadata": {
  "kernelspec": {
   "display_name": "Python 3",
   "language": "python",
   "name": "python3"
  },
  "language_info": {
   "codemirror_mode": {
    "name": "ipython",
    "version": 3
   },
   "file_extension": ".py",
   "mimetype": "text/x-python",
   "name": "python",
   "nbconvert_exporter": "python",
   "pygments_lexer": "ipython3",
   "version": "3.8.8"
  }
 },
 "nbformat": 4,
 "nbformat_minor": 5
}
